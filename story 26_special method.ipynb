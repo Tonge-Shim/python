{
 "cells": [
  {
   "cell_type": "markdown",
   "metadata": {},
   "source": [
    "# special method\n",
    "\n",
    "> 가장 대표적인 스페셜 메소드로 __init__ 이 있다. 이는 객체 생성시 자동으로 호출되는 메소드이다. \n"
   ]
  },
  {
   "cell_type": "markdown",
   "metadata": {},
   "source": [
    "# car_special.py"
   ]
  },
  {
   "cell_type": "code",
   "execution_count": 1,
   "metadata": {},
   "outputs": [],
   "source": [
    "class Car:\n",
    "    def __init__(self, id):\n",
    "        self.id = id\n",
    "    def __len__(self):\n",
    "        return len(self.id)\n",
    "    def __str__(self):\n",
    "        return 'vehicle number: ' + self.id"
   ]
  },
  {
   "cell_type": "code",
   "execution_count": 2,
   "metadata": {},
   "outputs": [],
   "source": [
    "def main():\n",
    "    c = Car('32러 5234')\n",
    "    print(len(c))\n",
    "    print(str(c))"
   ]
  },
  {
   "cell_type": "code",
   "execution_count": 3,
   "metadata": {},
   "outputs": [
    {
     "name": "stdout",
     "output_type": "stream",
     "text": [
      "8\n",
      "vehicle number: 32러 5234\n"
     ]
    }
   ],
   "source": [
    "main()"
   ]
  },
  {
   "cell_type": "markdown",
   "metadata": {},
   "source": [
    "# iterable객체가 되게끔 하기\n",
    "\n",
    "> iterable 객체: iter 함수에 인자로 전달가능한 객체, 그 결과로 'iterator 객체'반환\n",
    "\n",
    "> iterator 객체: next 함수에 인자로 전달가능한 객체"
   ]
  },
  {
   "cell_type": "markdown",
   "metadata": {},
   "source": [
    "# car_iterable.py"
   ]
  },
  {
   "cell_type": "code",
   "execution_count": 4,
   "metadata": {},
   "outputs": [
    {
     "name": "stdout",
     "output_type": "stream",
     "text": [
      "3 2 러   5 2 3 4 "
     ]
    }
   ],
   "source": [
    "class Car:\n",
    "    def __init__(self, id):\n",
    "        self.id = id\n",
    "    def __iter__(self):\n",
    "        return iter(self.id)\n",
    "def main():\n",
    "    c = Car(\"32러 5234\")\n",
    "    for i in c:\n",
    "        print(i, end = ' ')\n",
    "        \n",
    "main()"
   ]
  },
  {
   "cell_type": "markdown",
   "metadata": {},
   "source": [
    "# my_iterator.py"
   ]
  },
  {
   "cell_type": "code",
   "execution_count": 5,
   "metadata": {},
   "outputs": [
    {
     "name": "stdout",
     "output_type": "stream",
     "text": [
      "1 2 3 4 5 "
     ]
    }
   ],
   "source": [
    "class Coll:\n",
    "    def __init__(self,d):\n",
    "        self.ds = d\n",
    "        self.cc = 0\n",
    "    def __next__(self):\n",
    "        if len(self.ds) <= self.cc:\n",
    "            raise StopIteration\n",
    "        self.cc += 1\n",
    "        return self.ds[self.cc - 1]\n",
    "    \n",
    "def main():\n",
    "    co = Coll([1, 2, 3, 4, 5])\n",
    "    while True:\n",
    "        try:\n",
    "            i = next(co)\n",
    "            print(i, end = ' ')\n",
    "        except StopIteration:\n",
    "            break\n",
    "            \n",
    "main()\n"
   ]
  },
  {
   "cell_type": "markdown",
   "metadata": {},
   "source": [
    "# iterator 객체이자 iterable 객체가 되게끔 하기"
   ]
  },
  {
   "cell_type": "code",
   "execution_count": null,
   "metadata": {},
   "outputs": [],
   "source": []
  }
 ],
 "metadata": {
  "kernelspec": {
   "display_name": "Python 3",
   "language": "python",
   "name": "python3"
  },
  "language_info": {
   "codemirror_mode": {
    "name": "ipython",
    "version": 3
   },
   "file_extension": ".py",
   "mimetype": "text/x-python",
   "name": "python",
   "nbconvert_exporter": "python",
   "pygments_lexer": "ipython3",
   "version": "3.8.1"
  }
 },
 "nbformat": 4,
 "nbformat_minor": 4
}
